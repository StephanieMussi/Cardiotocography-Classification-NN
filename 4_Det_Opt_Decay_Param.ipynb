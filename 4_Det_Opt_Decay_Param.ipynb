{
 "cells": [
  {
   "cell_type": "markdown",
   "metadata": {},
   "source": [
    "# Classification model on Cardiotocography dataset"
   ]
  },
  {
   "cell_type": "code",
   "execution_count": 1,
   "metadata": {},
   "outputs": [],
   "source": [
    "import tensorflow as tf\n",
    "import numpy as np\n",
    "import pandas as pd\n",
    "from sklearn.model_selection import train_test_split\n",
    "from matplotlib import pyplot as plt\n",
    "from tensorflow.keras import Sequential\n",
    "from tensorflow.keras.layers import Dense\n",
    "from tensorflow.keras.initializers import RandomUniform\n",
    "from tensorflow.keras.regularizers import l2\n",
    "import multiprocessing as mp\n",
    "from time import time\n",
    "\n",
    "\n",
    "import os\n",
    "if not os.path.isdir('figures'):\n",
    "    os.makedirs('figures')"
   ]
  },
  {
   "cell_type": "markdown",
   "metadata": {},
   "source": [
    "## Set parameters\n",
    "The weight decay parameter (beta) is not initialized here as it will be tested later."
   ]
  },
  {
   "cell_type": "code",
   "execution_count": 2,
   "metadata": {},
   "outputs": [],
   "source": [
    "lr = 0.01\n",
    "no_folds = 5\n",
    "no_epochs = 1000\n",
    "batch_size = 64\n",
    "\n",
    "NO_INPUTS = 21\n",
    "no_neurons = 10\n",
    "NO_CLASSES = 3\n",
    "\n",
    "\n",
    "seed = 10\n",
    "np.random.seed(seed)\n",
    "tf.random.set_seed(seed)"
   ]
  },
  {
   "cell_type": "markdown",
   "metadata": {},
   "source": [
    "## Read data"
   ]
  },
  {
   "cell_type": "code",
   "execution_count": 3,
   "metadata": {},
   "outputs": [],
   "source": [
    "# read in data from csv file\n",
    "df = pd.read_csv('ctg_data_cleaned.csv')\n",
    "df=df.values"
   ]
  },
  {
   "cell_type": "code",
   "execution_count": 4,
   "metadata": {},
   "outputs": [],
   "source": [
    "# data\n",
    "# generate training data from csv file\n",
    "\n",
    "# inputs are the first 21 columns\n",
    "X = df[:,0:21]\n",
    "# normalizing every input\n",
    "max_arr = np.max(X, axis = 0)\n",
    "min_arr = np.min(X, axis = 0)\n",
    "for i in range(2126):\n",
    "    for j in range(21):\n",
    "        X[i,j] = (X[i,j] - min_arr[j])/(max_arr[j] - min_arr[j])\n",
    "\n",
    "# target is the last column\n",
    "Y = df[:,22]\n",
    "# convert [1,2,3] to [0,1,2] as class label starts from 0\n",
    "Y -= 1\n",
    "Y = Y.reshape(2126,1).astype(int)\n",
    "\n",
    "# split training and testing sets (70/30)\n",
    "x_train, x_test, y_train, y_test = train_test_split(X, Y, test_size=0.3, random_state = 42) "
   ]
  },
  {
   "cell_type": "markdown",
   "metadata": {},
   "source": [
    "## Implement 5-cross validation\n",
    "Use 5-cross validation to determine the best decay parameter. The decay parameter should be passed in as a parameter."
   ]
  },
  {
   "cell_type": "code",
   "execution_count": 5,
   "metadata": {},
   "outputs": [],
   "source": [
    "# min and max value for weight initialization\n",
    "w_min_relu = -np.sqrt(6)/np.sqrt(NO_INPUTS+no_neurons)\n",
    "w_max_relu = np.sqrt(6)/np.sqrt(NO_INPUTS+no_neurons)\n",
    "w_min_softmax = -4*np.sqrt(6)/np.sqrt(no_neurons+NO_CLASSES)\n",
    "w_max_softmax = 4*np.sqrt(6)/np.sqrt(no_neurons+NO_CLASSES)\n",
    "\n",
    "# number of patterns in each fold\n",
    "nf = len(x_train)//no_folds\n",
    "\n",
    "def train(beta):\n",
    "    for fold in range(no_folds):\n",
    "        start, end = fold*nf, (fold+1)*nf\n",
    "        # Set the end index for the last fold to cover all training data\n",
    "        if fold == 4:\n",
    "            end == 1488\n",
    "        \n",
    "        x_train_test, y_train_test = x_train[start:end], y_train[start:end]\n",
    "        x_train_train  = np.append(x_train[:start], x_train[end:], axis=0)\n",
    "        y_train_train = np.append(y_train[:start], y_train[end:], axis=0) \n",
    "        acc_matrix = np.zeros((no_folds,no_epochs)) \n",
    "        total_time = 0\n",
    "        \n",
    "        model = Sequential([Dense(no_neurons, activation='relu', \n",
    "                          kernel_initializer=RandomUniform(w_min_relu, w_max_relu), \n",
    "                          kernel_regularizer=l2(beta)),\n",
    "                    Dense(NO_CLASSES, activation='softmax', \n",
    "                          kernel_initializer=RandomUniform(w_min_softmax, w_max_softmax),\n",
    "                          kernel_regularizer=l2(beta))])\n",
    "        \n",
    "        model.compile(optimizer='sgd', \n",
    "              loss='sparse_categorical_crossentropy',\n",
    "              metrics=['accuracy'])\n",
    "        \n",
    "        startTime = time()\n",
    "        history = model.fit(x_train_train, y_train_train,\n",
    "                    batch_size=batch_size,\n",
    "                    epochs=no_epochs,\n",
    "                    verbose=0,\n",
    "                    use_multiprocessing=True,\n",
    "                    validation_data=(x_train_test, y_train_test))\n",
    "        total_time += time()-startTime\n",
    "        \n",
    "        for i in range (no_epochs):\n",
    "            acc_matrix[fold,:] = history.history['val_accuracy']\n",
    "\n",
    "    acc = np.mean(acc_matrix, axis = 0)\n",
    "    epoch_time = total_time/(no_folds*no_epochs)\n",
    "    return acc, epoch_time\n",
    "\n",
    "    \n"
   ]
  },
  {
   "cell_type": "markdown",
   "metadata": {},
   "source": [
    "## Compare performance\n",
    "Using decay parameter = 0, 10^(-3), 10^(-6), 10^(-9), 10^(-12), print the accuracies and execution time."
   ]
  },
  {
   "cell_type": "code",
   "execution_count": 6,
   "metadata": {},
   "outputs": [],
   "source": [
    "acc_0, epoch_time_0 = train(0)\n",
    "acc_3, epoch_time_3 = train(10**-3)\n",
    "acc_6, epoch_time_6 = train(10**-6)\n",
    "acc_9, epoch_time_9 = train(10**-9)\n",
    "acc_12, epoch_time_12 = train(10**-12)"
   ]
  },
  {
   "cell_type": "code",
   "execution_count": 7,
   "metadata": {},
   "outputs": [
    {
     "name": "stdout",
     "output_type": "stream",
     "text": [
      "The cross-validation accuracy of β = 0 is: 0.175758\n",
      "The cross-validation accuracy of β = 1e-3 is: 0.178451\n",
      "The cross-validation accuracy of β = 1e-6 is: 0.178451\n",
      "The cross-validation accuracy of β = 1e-9 is: 0.177104\n",
      "The cross-validation accuracy of β = 1e-12 is: 0.180471\n"
     ]
    }
   ],
   "source": [
    "print('The cross-validation accuracy of β = 0 is: %g' %acc_0[no_epochs - 1])\n",
    "print('The cross-validation accuracy of β = 1e-3 is: %g' %acc_3[no_epochs - 1])\n",
    "print('The cross-validation accuracy of β = 1e-6 is: %g' %acc_6[no_epochs - 1])\n",
    "print('The cross-validation accuracy of β = 1e-9 is: %g' %acc_9[no_epochs - 1])\n",
    "print('The cross-validation accuracy of β = 1e-12 is: %g' %acc_12[no_epochs - 1])"
   ]
  },
  {
   "cell_type": "code",
   "execution_count": 8,
   "metadata": {},
   "outputs": [
    {
     "name": "stdout",
     "output_type": "stream",
     "text": [
      "The training time for one epoch of β = 0 is: 0.00750036\n",
      "The training time for one epoch of β = 1e-3 is: 0.00727904\n",
      "The training time for one epoch of β = 1e-6 is: 0.00739035\n",
      "The training time for one epoch of β = 1e-9 is: 0.00753533\n",
      "The training time for one epoch of β = 1e-12 is: 0.00748877\n"
     ]
    }
   ],
   "source": [
    "print('The training time for one epoch of β = 0 is: %g' %epoch_time_0)\n",
    "print('The training time for one epoch of β = 1e-3 is: %g' %epoch_time_3)\n",
    "print('The training time for one epoch of β = 1e-6 is: %g' %epoch_time_6)\n",
    "print('The training time for one epoch of β = 1e-9 is: %g' %epoch_time_9)\n",
    "print('The training time for one epoch of β = 1e-12 is: %g' %epoch_time_12)"
   ]
  },
  {
   "cell_type": "code",
   "execution_count": 11,
   "metadata": {},
   "outputs": [
    {
     "data": {
      "image/png": "[encoded data removed]",
      "text/plain": [
       "<Figure size 432x288 with 1 Axes>"
      ]
     },
     "metadata": {
      "needs_background": "light"
     },
     "output_type": "display_data"
    },
    {
     "data": {
      "image/png": "[encoded data removed]",
      "text/plain": [
       "<Figure size 432x288 with 1 Axes>"
      ]
     },
     "metadata": {
      "needs_background": "light"
     },
     "output_type": "display_data"
    }
   ],
   "source": [
    "# summarize accuracy\n",
    "plt.plot(acc_0)\n",
    "plt.plot(acc_3)\n",
    "plt.plot(acc_6)\n",
    "plt.plot(acc_9)\n",
    "plt.plot(acc_12)\n",
    "plt.title('validation accuracy')\n",
    "plt.ylabel('accuracy')\n",
    "plt.xlabel('epoch')\n",
    "plt.legend(['β = 0', 'β = 1e-3', 'β = 1e-6', 'β = 1e-9', 'β = 1e-12'], loc='lower right')\n",
    "plt.savefig(\"4aAcc.png\")\n",
    "plt.show()\n",
    "\n",
    "# summarize epoch time\n",
    "plt.plot(0, epoch_time_0, 'bo')\n",
    "plt.plot(3, epoch_time_3,'bo')\n",
    "plt.plot(6, epoch_time_6, 'bo')\n",
    "plt.plot(9, epoch_time_9, 'bo')\n",
    "plt.plot(12, epoch_time_12, 'bo')\n",
    "plt.title('epoch time')\n",
    "plt.ylabel('time')\n",
    "plt.xlabel('decay param')\n",
    "plt.savefig(\"4aTime.png\")\n",
    "plt.show()\n",
    "\n"
   ]
  },
  {
   "cell_type": "code",
   "execution_count": null,
   "metadata": {},
   "outputs": [],
   "source": []
  }
 ],
 "metadata": {
  "kernelspec": {
   "display_name": "Python 3",
   "language": "python",
   "name": "python3"
  },
  "language_info": {
   "codemirror_mode": {
    "name": "ipython",
    "version": 3
   },
   "file_extension": ".py",
   "mimetype": "text/x-python",
   "name": "python",
   "nbconvert_exporter": "python",
   "pygments_lexer": "ipython3",
   "version": "3.8.5"
  }
 },
 "nbformat": 4,
 "nbformat_minor": 4
}
