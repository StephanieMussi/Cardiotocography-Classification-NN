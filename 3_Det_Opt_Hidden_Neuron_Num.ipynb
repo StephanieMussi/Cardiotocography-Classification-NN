{
 "cells": [
  {
   "cell_type": "markdown",
   "metadata": {},
   "source": [
    "# Classification model on Cardiotocography dataset"
   ]
  },
  {
   "cell_type": "code",
   "execution_count": 1,
   "metadata": {},
   "outputs": [],
   "source": [
    "import tensorflow as tf\n",
    "import numpy as np\n",
    "import pandas as pd\n",
    "from sklearn.model_selection import train_test_split\n",
    "from matplotlib import pyplot as plt\n",
    "from tensorflow.keras import Sequential\n",
    "from tensorflow.keras.layers import Dense\n",
    "from tensorflow.keras.initializers import RandomUniform\n",
    "from tensorflow.keras.regularizers import l2\n",
    "import multiprocessing as mp\n",
    "from time import time\n",
    "\n",
    "\n",
    "import os\n",
    "if not os.path.isdir('figures'):\n",
    "    os.makedirs('figures')"
   ]
  },
  {
   "cell_type": "markdown",
   "metadata": {},
   "source": [
    "## Set parameters\n",
    "The number of hidden neurons is not initialized here as it will be tested later."
   ]
  },
  {
   "cell_type": "code",
   "execution_count": 2,
   "metadata": {},
   "outputs": [],
   "source": [
    "lr = 0.01\n",
    "no_folds = 5\n",
    "no_epochs = 1000\n",
    "batch_size = 64\n",
    "beta = 0.000001\n",
    "\n",
    "NO_INPUTS = 21\n",
    "NO_CLASSES = 3\n",
    "\n",
    "\n",
    "seed = 10\n",
    "np.random.seed(seed)\n",
    "tf.random.set_seed(seed)"
   ]
  },
  {
   "cell_type": "markdown",
   "metadata": {},
   "source": [
    "## Read data"
   ]
  },
  {
   "cell_type": "code",
   "execution_count": 3,
   "metadata": {},
   "outputs": [],
   "source": [
    "# read in data from csv file\n",
    "df = pd.read_csv('ctg_data_cleaned.csv')\n",
    "df=df.values"
   ]
  },
  {
   "cell_type": "code",
   "execution_count": 4,
   "metadata": {},
   "outputs": [],
   "source": [
    "# data\n",
    "# generate training data from csv file\n",
    "\n",
    "# inputs are the first 21 columns\n",
    "X = df[:,0:21]\n",
    "# normalizing every input\n",
    "max_arr = np.max(X, axis = 0)\n",
    "min_arr = np.min(X, axis = 0)\n",
    "for i in range(2126):\n",
    "    for j in range(21):\n",
    "        X[i,j] = (X[i,j] - min_arr[j])/(max_arr[j] - min_arr[j])\n",
    "\n",
    "# target is the last column\n",
    "Y = df[:,22]\n",
    "# convert [1,2,3] to [0,1,2] as class label starts from 0\n",
    "Y -= 1\n",
    "Y = Y.reshape(2126,1).astype(int)\n",
    "\n",
    "# split training and testing sets (70/30)\n",
    "x_train, x_test, y_train, y_test = train_test_split(X, Y, test_size=0.3, random_state = 42) "
   ]
  },
  {
   "cell_type": "markdown",
   "metadata": {},
   "source": [
    "## Implement 5-cross validation\n",
    "Use 5-cross validation to determine the best number of hidden neurons. The number of hidden neurons should be passed in as a parameter."
   ]
  },
  {
   "cell_type": "code",
   "execution_count": 5,
   "metadata": {},
   "outputs": [],
   "source": [
    "# number of patterns in each fold\n",
    "nf = len(x_train)//no_folds\n",
    "\n",
    "def train(no_neurons):\n",
    "    # min and max value for weight initialization\n",
    "    w_min_relu = -np.sqrt(6)/np.sqrt(NO_INPUTS+no_neurons)\n",
    "    w_max_relu = np.sqrt(6)/np.sqrt(NO_INPUTS+no_neurons)\n",
    "    w_min_softmax = -4*np.sqrt(6)/np.sqrt(no_neurons+NO_CLASSES)\n",
    "    w_max_softmax = 4*np.sqrt(6)/np.sqrt(no_neurons+NO_CLASSES)\n",
    "    \n",
    "    acc_matrix = np.zeros((no_folds,no_epochs)) \n",
    "    total_time = 0\n",
    "    for fold in range(no_folds):\n",
    "        start, end = fold*nf, (fold+1)*nf\n",
    "        # Set the end index for the last fold to cover all training data\n",
    "        if fold == 4:\n",
    "            end == 1488\n",
    "        \n",
    "        x_train_test, y_train_test = x_train[start:end], y_train[start:end]\n",
    "        x_train_train  = np.append(x_train[:start], x_train[end:], axis=0)\n",
    "        y_train_train = np.append(y_train[:start], y_train[end:], axis=0) \n",
    "        \n",
    "        model = Sequential([Dense(no_neurons, activation='relu', \n",
    "                          kernel_initializer=RandomUniform(w_min_relu, w_max_relu), \n",
    "                          kernel_regularizer=l2(beta)),\n",
    "                    Dense(NO_CLASSES, activation='softmax', \n",
    "                          kernel_initializer=RandomUniform(w_min_softmax, w_max_softmax),\n",
    "                          kernel_regularizer=l2(beta))])\n",
    "        \n",
    "        model.compile(optimizer='sgd', \n",
    "              loss='sparse_categorical_crossentropy',\n",
    "              metrics=['accuracy'])\n",
    "        \n",
    "        startTime = time()\n",
    "        history = model.fit(x_train_train, y_train_train,\n",
    "                    batch_size=batch_size,\n",
    "                    epochs=no_epochs,\n",
    "                    verbose=0,\n",
    "                    use_multiprocessing=True,\n",
    "                    validation_data=(x_train_test, y_train_test))\n",
    "        total_time += time()-startTime\n",
    "        \n",
    "        for i in range (no_epochs):\n",
    "            acc_matrix[fold,:] = history.history['val_accuracy']\n",
    "\n",
    "    acc = np.mean(acc_matrix, axis = 0)\n",
    "    epoch_time = total_time/(no_folds*no_epochs)\n",
    "    return acc, epoch_time\n",
    "\n",
    "    \n"
   ]
  },
  {
   "cell_type": "markdown",
   "metadata": {},
   "source": [
    "## Compare performance\n",
    "Using batch size = 5, 10, 15, 20, 25, print the accuracies and execution time."
   ]
  },
  {
   "cell_type": "code",
   "execution_count": 6,
   "metadata": {},
   "outputs": [],
   "source": [
    "acc_5,epoch_time_5 = train(5)\n",
    "acc_10, epoch_time_10 = train(10)\n",
    "acc_15, epoch_time_15 = train(15)\n",
    "acc_20, epoch_time_20 = train(20)\n",
    "acc_25, epoch_time_25 = train(25)"
   ]
  },
  {
   "cell_type": "code",
   "execution_count": 7,
   "metadata": {},
   "outputs": [
    {
     "name": "stdout",
     "output_type": "stream",
     "text": [
      "The cross-validation accuracy of 5 hidden neurons is: 0.892929\n",
      "The cross-validation accuracy of 10 hidden neurons is: 0.893603\n",
      "The cross-validation accuracy of 15 hidden neurons is: 0.890909\n",
      "The cross-validation accuracy of 20 hidden neurons is: 0.893603\n",
      "The cross-validation accuracy of 25 hidden neurons is: 0.886869\n"
     ]
    }
   ],
   "source": [
    "print('The cross-validation accuracy of 5 hidden neurons is: %g' %acc_5[no_epochs - 1])\n",
    "print('The cross-validation accuracy of 10 hidden neurons is: %g' %acc_10[no_epochs - 1])\n",
    "print('The cross-validation accuracy of 15 hidden neurons is: %g' %acc_15[no_epochs - 1])\n",
    "print('The cross-validation accuracy of 20 hidden neurons is: %g' %acc_20[no_epochs - 1])\n",
    "print('The cross-validation accuracy of 25 hidden neurons is: %g' %acc_25[no_epochs - 1])"
   ]
  },
  {
   "cell_type": "code",
   "execution_count": 8,
   "metadata": {},
   "outputs": [
    {
     "name": "stdout",
     "output_type": "stream",
     "text": [
      "The training time for one epoch of 5 hidden neurons is: 0.0360102\n",
      "The training time for one epoch of 10 hidden neurons is: 0.0371967\n",
      "The training time for one epoch of 15 hidden neurons is: 0.0376602\n",
      "The training time for one epoch of 20 hidden neurons is: 0.0372887\n",
      "The training time for one epoch of 25 hidden neurons is: 0.0375375\n"
     ]
    }
   ],
   "source": [
    "print('The training time for one epoch of 5 hidden neurons is: %g' %epoch_time_5)\n",
    "print('The training time for one epoch of 10 hidden neurons is: %g' %epoch_time_10)\n",
    "print('The training time for one epoch of 15 hidden neurons is: %g' %epoch_time_15)\n",
    "print('The training time for one epoch of 20 hidden neurons is: %g' %epoch_time_20)\n",
    "print('The training time for one epoch of 25 hidden neurons is: %g' %epoch_time_25)"
   ]
  },
  {
   "cell_type": "markdown",
   "metadata": {},
   "source": [
    "## Plot accuracy and time curves"
   ]
  },
  {
   "cell_type": "code",
   "execution_count": 9,
   "metadata": {},
   "outputs": [
    {
     "data": {
      "image/png": "[encoded data removed]",
      "text/plain": [
       "<Figure size 432x288 with 1 Axes>"
      ]
     },
     "metadata": {
      "needs_background": "light"
     },
     "output_type": "display_data"
    },
    {
     "data": {
      "image/png": "[encoded data removed]",
      "text/plain": [
       "<Figure size 432x288 with 1 Axes>"
      ]
     },
     "metadata": {
      "needs_background": "light"
     },
     "output_type": "display_data"
    }
   ],
   "source": [
    "# summarize history for accuracy\n",
    "plt.plot(acc_5)\n",
    "plt.plot(acc_10)\n",
    "plt.plot(acc_15)\n",
    "plt.plot(acc_20)\n",
    "plt.plot(acc_25)\n",
    "plt.title('validation accuracy')\n",
    "plt.ylabel('accuracy')\n",
    "plt.xlabel('epoch')\n",
    "plt.legend(['hidden neurons = 5', 'hidden neurons = 10', 'hidden neurons = 15', 'hidden neurons = 20', 'hidden neurons = 25'], loc='lower right')\n",
    "plt.savefig(\"3aAcc.png\")\n",
    "plt.show()\n",
    "\n",
    "# summarize epoch time\n",
    "plt.plot(5, epoch_time_5, 'bo')\n",
    "plt.plot(10, epoch_time_10,'bo')\n",
    "plt.plot(15, epoch_time_15, 'bo')\n",
    "plt.plot(20, epoch_time_20, 'bo')\n",
    "plt.plot(25, epoch_time_25, 'bo')\n",
    "plt.title('epoch time')\n",
    "plt.ylabel('time')\n",
    "plt.xlabel('no.of hidden neurons')\n",
    "plt.savefig(\"3aTime.png\")\n",
    "plt.show()\n",
    "\n"
   ]
  },
  {
   "cell_type": "code",
   "execution_count": null,
   "metadata": {},
   "outputs": [],
   "source": []
  }
 ],
 "metadata": {
  "kernelspec": {
   "display_name": "Python 3",
   "language": "python",
   "name": "python3"
  },
  "language_info": {
   "codemirror_mode": {
    "name": "ipython",
    "version": 3
   },
   "file_extension": ".py",
   "mimetype": "text/x-python",
   "name": "python",
   "nbconvert_exporter": "python",
   "pygments_lexer": "ipython3",
   "version": "3.8.5"
  }
 },
 "nbformat": 4,
 "nbformat_minor": 4
}
