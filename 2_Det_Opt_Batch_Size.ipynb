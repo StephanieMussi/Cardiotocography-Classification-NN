{
 "cells": [
  {
   "cell_type": "markdown",
   "metadata": {},
   "source": [
    "# Classification model on Cardiotocography dataset"
   ]
  },
  {
   "cell_type": "code",
   "execution_count": 1,
   "metadata": {},
   "outputs": [],
   "source": [
    "import tensorflow as tf\n",
    "import numpy as np\n",
    "import pandas as pd\n",
    "from sklearn.model_selection import train_test_split\n",
    "from matplotlib import pyplot as plt\n",
    "from tensorflow.keras import Sequential\n",
    "from tensorflow.keras.layers import Dense\n",
    "from tensorflow.keras.initializers import RandomUniform\n",
    "from tensorflow.keras.regularizers import l2\n",
    "import multiprocessing as mp\n",
    "from time import time\n",
    "\n",
    "\n",
    "import os\n",
    "if not os.path.isdir('figures'):\n",
    "    os.makedirs('figures')"
   ]
  },
  {
   "cell_type": "markdown",
   "metadata": {},
   "source": [
    "## Set parameters\n",
    "The batch size is not initialized here as it will be tested later."
   ]
  },
  {
   "cell_type": "code",
   "execution_count": 2,
   "metadata": {},
   "outputs": [],
   "source": [
    "lr = 0.01\n",
    "no_folds = 5\n",
    "no_epochs = 1000\n",
    "beta = 0.000001\n",
    "\n",
    "NO_INPUTS = 21\n",
    "no_neurons = 10\n",
    "NO_CLASSES = 3\n",
    "\n",
    "\n",
    "seed = 10\n",
    "np.random.seed(seed)\n",
    "tf.random.set_seed(seed)"
   ]
  },
  {
   "cell_type": "markdown",
   "metadata": {},
   "source": [
    "## Read data"
   ]
  },
  {
   "cell_type": "code",
   "execution_count": 3,
   "metadata": {},
   "outputs": [],
   "source": [
    "# read in data from csv file\n",
    "df = pd.read_csv('ctg_data_cleaned.csv')\n",
    "df=df.values"
   ]
  },
  {
   "cell_type": "code",
   "execution_count": 4,
   "metadata": {},
   "outputs": [],
   "source": [
    "# data\n",
    "# generate training data from csv file\n",
    "\n",
    "# inputs are the first 21 columns\n",
    "X = df[:,0:21]\n",
    "# normalizing every input\n",
    "max_arr = np.max(X, axis = 0)\n",
    "min_arr = np.min(X, axis = 0)\n",
    "for i in range(2126):\n",
    "    for j in range(21):\n",
    "        X[i,j] = (X[i,j] - min_arr[j])/(max_arr[j] - min_arr[j])\n",
    "\n",
    "# target is the last column\n",
    "Y = df[:,22]\n",
    "# convert [1,2,3] to [0,1,2] as class label starts from 0\n",
    "Y -= 1\n",
    "Y = Y.reshape(2126,1).astype(int)\n",
    "\n",
    "# split training and testing sets (70/30)\n",
    "x_train, x_test, y_train, y_test = train_test_split(X, Y, test_size=0.3, random_state = 42) "
   ]
  },
  {
   "cell_type": "markdown",
   "metadata": {},
   "source": [
    "## Implement 5-cross validation\n",
    "Use 5-cross validation to determine the best batch size. The batch size should be passed in as a parameter."
   ]
  },
  {
   "cell_type": "code",
   "execution_count": 5,
   "metadata": {},
   "outputs": [],
   "source": [
    "# min and max value for weight initialization\n",
    "w_min_relu = -np.sqrt(6)/np.sqrt(NO_INPUTS+no_neurons)\n",
    "w_max_relu = np.sqrt(6)/np.sqrt(NO_INPUTS+no_neurons)\n",
    "w_min_softmax = -4*np.sqrt(6)/np.sqrt(no_neurons+NO_CLASSES)\n",
    "w_max_softmax = 4*np.sqrt(6)/np.sqrt(no_neurons+NO_CLASSES)\n",
    "\n",
    "# number of patterns in each fold\n",
    "nf = len(x_train)//no_folds\n",
    "\n",
    "def train(batch_size):\n",
    "    acc_matrix = np.zeros((no_folds,no_epochs)) \n",
    "    total_time = 0\n",
    "    for fold in range(no_folds):\n",
    "        start, end = fold*nf, (fold+1)*nf\n",
    "        # Set the end index for the last fold to cover all training data\n",
    "        if fold == 4:\n",
    "            end == 1488\n",
    "        \n",
    "        x_train_test, y_train_test = x_train[start:end], y_train[start:end]\n",
    "        x_train_train  = np.append(x_train[:start], x_train[end:], axis=0)\n",
    "        y_train_train = np.append(y_train[:start], y_train[end:], axis=0) \n",
    "        \n",
    "        model = Sequential([Dense(no_neurons, activation='relu', \n",
    "                          kernel_initializer=RandomUniform(w_min_relu, w_max_relu), \n",
    "                          kernel_regularizer=l2(beta)),\n",
    "                    Dense(NO_CLASSES, activation='softmax', \n",
    "                          kernel_initializer=RandomUniform(w_min_softmax, w_max_softmax),\n",
    "                          kernel_regularizer=l2(beta))])\n",
    "        \n",
    "        model.compile(optimizer='sgd', \n",
    "              loss='sparse_categorical_crossentropy',\n",
    "              metrics=['accuracy'])\n",
    "        \n",
    "        startTime = time()\n",
    "        history = model.fit(x_train_train, y_train_train,\n",
    "                    batch_size=batch_size,\n",
    "                    epochs=no_epochs,\n",
    "                    verbose=0,\n",
    "                    use_multiprocessing=True,\n",
    "                    validation_data=(x_train_test, y_train_test))\n",
    "        total_time += time()-startTime\n",
    "        \n",
    "        for i in range (no_epochs):\n",
    "            acc_matrix[fold,:] = history.history['val_accuracy']\n",
    "\n",
    "    acc = np.mean(acc_matrix, axis = 0)\n",
    "    epoch_time = total_time/(no_folds*no_epochs)\n",
    "    return acc, epoch_time \n",
    "\n",
    "    \n"
   ]
  },
  {
   "cell_type": "markdown",
   "metadata": {},
   "source": [
    "## Compare performance\n",
    "Using batch size = 4, 8, 16, 32, 64, print the accuracies and execution time."
   ]
  },
  {
   "cell_type": "code",
   "execution_count": 6,
   "metadata": {},
   "outputs": [],
   "source": [
    "acc_4, epoch_time_4 = train(4)\n",
    "acc_8, epoch_time_8 = train(8)\n",
    "acc_16,epoch_time_16 = train(16)\n",
    "acc_32, epoch_time_32 = train(32)\n",
    "acc_64, epoch_time_64 = train(64)"
   ]
  },
  {
   "cell_type": "code",
   "execution_count": 7,
   "metadata": {},
   "outputs": [
    {
     "name": "stdout",
     "output_type": "stream",
     "text": [
      "The cross-validation accuracy of batch size 4 is: 0.902357\n",
      "The cross-validation accuracy of batch size 8 is: 0.900337\n",
      "The cross-validation accuracy of batch size 16 is: 0.891583\n",
      "The cross-validation accuracy of batch size 32 is: 0.89697\n",
      "The cross-validation accuracy of batch size 64 is: 0.896296\n"
     ]
    }
   ],
   "source": [
    "print('The cross-validation accuracy of batch size 4 is: %g' %acc_4[no_epochs - 1])\n",
    "print('The cross-validation accuracy of batch size 8 is: %g' %acc_8[no_epochs - 1])\n",
    "print('The cross-validation accuracy of batch size 16 is: %g' %acc_16[no_epochs - 1])\n",
    "print('The cross-validation accuracy of batch size 32 is: %g' %acc_32[no_epochs - 1])\n",
    "print('The cross-validation accuracy of batch size 64 is: %g' %acc_64[no_epochs - 1])"
   ]
  },
  {
   "cell_type": "code",
   "execution_count": 8,
   "metadata": {},
   "outputs": [
    {
     "name": "stdout",
     "output_type": "stream",
     "text": [
      "The training time for one epoch of batch size 4 is: 0.421754\n",
      "The training time for one epoch of batch size 8 is: 0.247586\n",
      "The training time for one epoch of batch size 16 is: 0.161948\n",
      "The training time for one epoch of batch size 32 is: 0.113264\n",
      "The training time for one epoch of batch size 64 is: 0.0903555\n"
     ]
    }
   ],
   "source": [
    "print('The training time for one epoch of batch size 4 is: %g' %epoch_time_4)\n",
    "print('The training time for one epoch of batch size 8 is: %g' %epoch_time_8)\n",
    "print('The training time for one epoch of batch size 16 is: %g' %epoch_time_16)\n",
    "print('The training time for one epoch of batch size 32 is: %g' %epoch_time_32)\n",
    "print('The training time for one epoch of batch size 64 is: %g' %epoch_time_64)"
   ]
  },
  {
   "cell_type": "markdown",
   "metadata": {},
   "source": [
    "## Plot accuracy and time curves"
   ]
  },
  {
   "cell_type": "code",
   "execution_count": 9,
   "metadata": {},
   "outputs": [
    {
     "data": {
      "image/png": "[encoded data removed]",
      "text/plain": [
       "<Figure size 432x288 with 1 Axes>"
      ]
     },
     "metadata": {
      "needs_background": "light"
     },
     "output_type": "display_data"
    },
    {
     "data": {
      "image/png": "[encoded data removed]",
      "text/plain": [
       "<Figure size 432x288 with 1 Axes>"
      ]
     },
     "metadata": {
      "needs_background": "light"
     },
     "output_type": "display_data"
    }
   ],
   "source": [
    "# summarize accuracy\n",
    "plt.plot(acc_4)\n",
    "plt.plot(acc_8)\n",
    "plt.plot(acc_16)\n",
    "plt.plot(acc_32)\n",
    "plt.plot(acc_64)\n",
    "plt.title('validation accuracy')\n",
    "plt.ylabel('accuracy')\n",
    "plt.xlabel('epoch')\n",
    "plt.legend(['batch size = 4', 'batch size = 8', 'batch size = 16', 'batch size = 32', 'batch size = 64'], loc='lower right')\n",
    "plt.savefig(\"2aAcc.png\")\n",
    "plt.show()\n",
    "\n",
    "\n",
    "# summarize epoch time\n",
    "plt.plot(4, epoch_time_4, 'bo')\n",
    "plt.plot(8, epoch_time_8,'bo')\n",
    "plt.plot(16, epoch_time_16, 'bo')\n",
    "plt.plot(32, epoch_time_32, 'bo')\n",
    "plt.plot(64, epoch_time_64, 'bo')\n",
    "plt.title('epoch time')\n",
    "plt.ylabel('time')\n",
    "plt.xlabel('batch size')\n",
    "plt.savefig(\"2aTime.png\")\n",
    "plt.show()\n",
    "\n"
   ]
  },
  {
   "cell_type": "code",
   "execution_count": null,
   "metadata": {},
   "outputs": [],
   "source": []
  }
 ],
 "metadata": {
  "kernelspec": {
   "display_name": "Python 3",
   "language": "python",
   "name": "python3"
  },
  "language_info": {
   "codemirror_mode": {
    "name": "ipython",
    "version": 3
   },
   "file_extension": ".py",
   "mimetype": "text/x-python",
   "name": "python",
   "nbconvert_exporter": "python",
   "pygments_lexer": "ipython3",
   "version": "3.8.5"
  }
 },
 "nbformat": 4,
 "nbformat_minor": 4
}
